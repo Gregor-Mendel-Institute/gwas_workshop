{
 "cells": [
  {
   "cell_type": "markdown",
   "metadata": {},
   "source": [
    "# Subset genotype and phenotype files for the GWAS tutorial\n",
    "The full data is clearly too big to use in this setting.  Need to subset it so GWAS can be run in a reasonable amount of time"
   ]
  },
  {
   "cell_type": "markdown",
   "metadata": {},
   "source": [
    "## Prepare environment"
   ]
  },
  {
   "cell_type": "code",
   "execution_count": 2,
   "metadata": {},
   "outputs": [],
   "source": [
    "import pandas as pd\n",
    "import numpy as np\n",
    "import os\n",
    "import h5py\n",
    "from bisect import bisect\n",
    "\n",
    "%run Uemit.genotype"
   ]
  },
  {
   "cell_type": "markdown",
   "metadata": {},
   "source": [
    "## Set variables"
   ]
  },
  {
   "cell_type": "code",
   "execution_count": 61,
   "metadata": {},
   "outputs": [],
   "source": [
    "# phenotypes\n",
    "pheno_file = './large.data/flowering_time_16.csv'\n",
    "# genotypes\n",
    "geno_file = './large.data/all_chromosomes_binary.hdf5'\n",
    "# subset phenotypes\n",
    "sub_pheno_file = \"./data/subset_flowering_time_16.csv\"\n",
    "# subset genotypes\n",
    "sub_geno_file = './data/subset_all_chromosomes_binary.hdf5'"
   ]
  },
  {
   "cell_type": "markdown",
   "metadata": {},
   "source": [
    "# 1.  Subset flowering time data"
   ]
  },
  {
   "cell_type": "markdown",
   "metadata": {},
   "source": [
    "## Load phenotype data"
   ]
  },
  {
   "cell_type": "code",
   "execution_count": 62,
   "metadata": {},
   "outputs": [
    {
     "name": "stdout",
     "output_type": "stream",
     "text": [
      "ecotypeid            float64\n",
      "flowering_time_16    float64\n",
      "dtype: object\n",
      "<class 'pandas.core.frame.DataFrame'>\n",
      "ecotypeid              int64\n",
      "flowering_time_16    float64\n",
      "dtype: object\n",
      "(1100, 2)\n",
      "   ecotypeid  flowering_time_16\n",
      "0         88              50.50\n",
      "1        108              52.25\n",
      "2        139              52.75\n",
      "3        159              56.75\n",
      "4        265              47.25\n"
     ]
    }
   ],
   "source": [
    "# read in data\n",
    "pheno = pd.read_csv(pheno_file)\n",
    "# remove NA values\n",
    "pheno = pheno[np.isfinite(pheno)]\n",
    "print (pheno.dtypes)\n",
    "print (type(pheno))\n",
    "pheno.columns\n",
    "\n",
    "pheno['ecotypeid'] = pheno['ecotypeid'].astype('i8')\n",
    "print (pheno.dtypes)\n",
    "\n",
    "# does pheno match our expectations?\n",
    "print(pheno.shape)\n",
    "print(pheno.head(n=5))"
   ]
  },
  {
   "cell_type": "markdown",
   "metadata": {},
   "source": [
    "## Subset phenotype data\n",
    "get a random subset of 200 accessions"
   ]
  },
  {
   "cell_type": "code",
   "execution_count": 63,
   "metadata": {},
   "outputs": [
    {
     "name": "stdout",
     "output_type": "stream",
     "text": [
      "[17, 19, 23, 28, 38, 43, 48, 55, 57, 68, 69, 70, 73, 76, 79, 83, 89, 91, 101, 103, 105, 112, 113, 116, 118, 119, 120, 130, 134, 136, 138, 154, 158, 160, 161, 169, 175, 176, 178, 179, 181, 188, 190, 195, 199, 200, 203, 207, 208, 209, 218, 223, 225, 227, 245, 250, 251, 255, 259, 268, 275, 278, 288, 310, 315, 316, 317, 318, 323, 338, 341, 342, 347, 351, 352, 354, 366, 367, 368, 381, 384, 392, 393, 396, 397, 398, 410, 417, 419, 435, 439, 440, 449, 454, 468, 469, 471, 489, 494, 503, 509, 514, 520, 532, 536, 555, 556, 562, 572, 582, 594, 596, 597, 606, 608, 610, 621, 625, 629, 638, 639, 642, 644, 647, 660, 661, 663, 671, 674, 697, 711, 724, 725, 728, 729, 731, 732, 734, 735, 743, 764, 767, 771, 776, 780, 781, 796, 797, 800, 806, 812, 815, 821, 824, 828, 829, 830, 842, 857, 859, 870, 876, 891, 895, 899, 900, 901, 903, 904, 910, 914, 918, 925, 926, 932, 938, 939, 950, 958, 972, 974, 975, 984, 987, 991, 1001, 1011, 1012, 1031, 1034, 1035, 1043, 1052, 1060, 1070, 1071, 1074, 1076, 1086, 1094]\n",
      "      ecotypeid  flowering_time_16\n",
      "17          770          72.250000\n",
      "19          801          88.250000\n",
      "23          991         106.750000\n",
      "28         1062          68.250000\n",
      "38         1367          88.750000\n",
      "...         ...                ...\n",
      "1071       9998          46.250000\n",
      "1074      10001          49.500000\n",
      "1076      10003          57.666667\n",
      "1086      10013         100.000000\n",
      "1094      10022          45.250000\n",
      "\n",
      "[200 rows x 2 columns]\n"
     ]
    }
   ],
   "source": [
    "n_acc = 200\n",
    "\n",
    "import random\n",
    "x = random.sample(range(0,pheno.shape[0]), 200)\n",
    "x = sorted(x)\n",
    "\n",
    "print(x)\n",
    "pheno_sub = pheno.iloc[x]\n",
    "print(pheno_sub)"
   ]
  },
  {
   "cell_type": "markdown",
   "metadata": {},
   "source": [
    "## Output as .csv"
   ]
  },
  {
   "cell_type": "code",
   "execution_count": 64,
   "metadata": {},
   "outputs": [],
   "source": [
    "pheno_sub.to_csv(sub_pheno_file,index=False)"
   ]
  },
  {
   "cell_type": "markdown",
   "metadata": {},
   "source": [
    "# 2.  Subset genotype data (mdf5 format)"
   ]
  },
  {
   "cell_type": "code",
   "execution_count": 6,
   "metadata": {},
   "outputs": [
    {
     "data": {
      "text/plain": [
       "array([[       0,  2597825],\n",
       "       [ 2597825,  4466694],\n",
       "       [ 4466694,  6661059],\n",
       "       [ 6661059,  8428147],\n",
       "       [ 8428147, 10709949]])"
      ]
     },
     "execution_count": 6,
     "metadata": {},
     "output_type": "execute_result"
    }
   ],
   "source": [
    "genos = load_hdf5_genotype_data(geno_file)\n",
    "genos.data_format\n",
    "genos.num_snps\n",
    "genos.accessions\n",
    "genos.snps\n",
    "genos.snps[0:10]\n",
    "genos.chrs\n",
    "genos.chr_regions\n",
    "genos.positions"
   ]
  },
  {
   "cell_type": "markdown",
   "metadata": {},
   "source": [
    "So, i need to subset the number of snps.  This means subsetting both geno.snps and geno.positions.\n",
    "\n",
    "Would also like to subset accessions eventually, but that's a different problem..."
   ]
  },
  {
   "cell_type": "code",
   "execution_count": 7,
   "metadata": {},
   "outputs": [
    {
     "name": "stdout",
     "output_type": "stream",
     "text": [
      "10709949\n",
      "[ 55 101 139 203 237 291 332 375 431 502]\n"
     ]
    },
    {
     "data": {
      "text/plain": [
       "1070995"
      ]
     },
     "execution_count": 7,
     "metadata": {},
     "output_type": "execute_result"
    }
   ],
   "source": [
    "# subsetting postions by every 10 positions\n",
    "pos = genos.positions\n",
    "print(len(pos))\n",
    "pos = pos[::10]\n",
    "print(pos[0:10])\n",
    "len(pos)"
   ]
  },
  {
   "cell_type": "code",
   "execution_count": 12,
   "metadata": {},
   "outputs": [
    {
     "name": "stdout",
     "output_type": "stream",
     "text": [
      "[[0 0 0 ... 0 0 0]\n",
      " [0 0 0 ... 0 0 0]\n",
      " [0 0 0 ... 0 0 0]\n",
      " ...\n",
      " [0 0 0 ... 0 0 0]\n",
      " [0 0 0 ... 0 0 0]\n",
      " [0 0 0 ... 1 1 1]]\n"
     ]
    },
    {
     "data": {
      "text/plain": [
       "1070995"
      ]
     },
     "execution_count": 12,
     "metadata": {},
     "output_type": "execute_result"
    }
   ],
   "source": [
    "#subsetting snps\n",
    "snps = genos.snps\n",
    "len(snps)\n",
    "snps = snps[::10]\n",
    "print(snps[0:10])\n",
    "len(snps)"
   ]
  },
  {
   "cell_type": "code",
   "execution_count": 35,
   "metadata": {},
   "outputs": [
    {
     "data": {
      "text/plain": [
       "1070995"
      ]
     },
     "execution_count": 35,
     "metadata": {},
     "output_type": "execute_result"
    }
   ],
   "source": [
    "len(snps)"
   ]
  },
  {
   "cell_type": "code",
   "execution_count": 15,
   "metadata": {},
   "outputs": [
    {
     "name": "stdout",
     "output_type": "stream",
     "text": [
      "[ 55 101 139 203 237 291 332 375 431 502]\n"
     ]
    },
    {
     "data": {
      "text/plain": [
       "1070995"
      ]
     },
     "execution_count": 15,
     "metadata": {},
     "output_type": "execute_result"
    }
   ],
   "source": [
    "# subsetting positions\n",
    "pos = genos.positions\n",
    "pos = pos[::10]\n",
    "print(pos[0:10])\n",
    "len(pos)"
   ]
  },
  {
   "cell_type": "code",
   "execution_count": 57,
   "metadata": {},
   "outputs": [],
   "source": [
    "# try to write the hdf5 file with filtered SNPs\n",
    "\n",
    "hdf5_file = sub_geno_file\n",
    "\n",
    "h5file = h5py.File(hdf5_file, 'w')        \n",
    "num_snps = len(snps)\n",
    "num_accessions = len(genos.accessions)\n",
    "num_positions = len(pos)\n",
    "h5file.create_dataset('accessions', data=genos.accessions,shape=(num_accessions,))\n",
    "h5file.create_dataset('positions', data=pos,shape=(num_positions,),dtype='i4')\n",
    "h5file['positions'].attrs['chrs'] = genos.chrs\n",
    "h5file['positions'].attrs['chr_regions']  = genos.chr_regions\n",
    "h5file.create_dataset('snps', shape=(num_snps, num_accessions), dtype='int8', compression='lzf', chunks=((1000, num_accessions)),data=snps)\n",
    "h5file['snps'].attrs['data_format'] = genos.data_format\n",
    "h5file['snps'].attrs['num_snps'] = num_snps\n",
    "h5file['snps'].attrs['num_accessions'] = num_accessions\n",
    "h5file.close()\n",
    "log.info(\"Finished writing genotype to HDF5 file\")"
   ]
  },
  {
   "cell_type": "code",
   "execution_count": 49,
   "metadata": {},
   "outputs": [
    {
     "data": {
      "text/plain": [
       "1070995"
      ]
     },
     "execution_count": 49,
     "metadata": {},
     "output_type": "execute_result"
    }
   ],
   "source": [
    "genos = load_hdf5_genotype_data(\"test.hdf5\")\n",
    "genos.data_format\n",
    "genos.num_snps\n",
    "#genos.accessions\n",
    "##genos.snps\n",
    "#genos.snps[0:10]\n",
    "#genos.chrs\n",
    "##genos.chr_regions\n",
    "#genos.positions"
   ]
  },
  {
   "cell_type": "markdown",
   "metadata": {},
   "source": [
    "It works!!"
   ]
  }
 ],
 "metadata": {
  "kernelspec": {
   "display_name": "Python 3",
   "language": "python",
   "name": "python3"
  },
  "language_info": {
   "codemirror_mode": {
    "name": "ipython",
    "version": 3
   },
   "file_extension": ".py",
   "mimetype": "text/x-python",
   "name": "python",
   "nbconvert_exporter": "python",
   "pygments_lexer": "ipython3",
   "version": "3.7.5"
  }
 },
 "nbformat": 4,
 "nbformat_minor": 4
}
