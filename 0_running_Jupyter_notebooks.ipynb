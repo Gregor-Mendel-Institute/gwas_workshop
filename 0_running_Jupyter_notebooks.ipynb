{
 "cells": [
  {
   "cell_type": "markdown",
   "metadata": {},
   "source": [
    "# Running a Jupyter notebook"
   ]
  },
  {
   "cell_type": "markdown",
   "metadata": {},
   "source": [
    "This practical uses Jupyter notebooks, which are a great tool to organize, explain, and share your computational analyses and conclusions.  Jupyter notebooks can handle many coding languages, including R and python, both of which we will use today.  \n",
    "\n",
    "### Let's spend a few minutes understanding how to navigate a Jupyter notebook."
   ]
  },
  {
   "cell_type": "markdown",
   "metadata": {},
   "source": [
    "## 0. Always save the code!\n",
    "Press the key **S** from time to time, as a routine."
   ]
  },
  {
   "cell_type": "markdown",
   "metadata": {},
   "source": [
    "## 1. Each one of these windows is a cell.  A cell can be one of two types:\n",
    "\n",
    "1. _Markdown_ - used for typing text (m)\n",
    "2. _Code_ - used for writing and running code (y)\n",
    "\n",
    "Select this cell, press esc, and then press m (markdown) and then y (code).  The color coding changes, and in\n",
    "code mode (y), you will see In [ ]: next to the window.  End in markdown mode (m), then press shift-return.\n"
   ]
  },
  {
   "cell_type": "markdown",
   "metadata": {},
   "source": [
    "## 2. To run a cell, press shift-return\n",
    "\n",
    "Try changing the cell types of these first windows and running them.  \n",
    "If you try to run these cells in code (y) mode, you will get errors."
   ]
  },
  {
   "cell_type": "markdown",
   "metadata": {},
   "source": [
    "## 3. Cells can be in one of two modes:\n",
    "\n",
    "### Edit Mode (Press Enter to enable)\n",
    "← GREEN outlined cell.  \n",
    "You can edit cell contents.\n",
    "\n",
    "### Command Mode (Press Esc to enable)\n",
    "←  BLUE outlined cell.  \n",
    "You can command the entire cell. For example, you can move up and down between cells with the arrow keys and change the cell type with m and y (as we have seen).  \n",
    "> **Note:** Command mode doesn't mean that cell is evaluated\n",
    "\n",
    "\n",
    "#### Try switching this cell between command and edit modes."
   ]
  },
  {
   "cell_type": "markdown",
   "metadata": {},
   "source": [
    "## 4. Useful shortcuts\n",
    "\n",
    "They work in the **Command Mode** only\n",
    "\n",
    "- M: Change cell to Markdown\n",
    "- Y: Change cell to Code\n",
    "<br>\n",
    "<br>\n",
    "- A: Insert cell above\n",
    "- B: Insert cell below\n",
    "- D, D (Press the D key twice): Delete selected cells\n",
    "<br>\n",
    "<br>\n",
    "- C: Copy cell\n",
    "- X: Cut cell\n",
    "- V: Paste cell below\n",
    "- Shift + V: Paste cell above\n",
    "- Shift + M: Merge selected cells or merge cell below if only one cell is selected\n",
    "<br>\n",
    "<br>\n",
    "- Z: Undo last cell operation\n",
    "- S: Save and checkpoint\n",
    "\n",
    "#### Try adding some blank cells. To erase a cell, click on it, hit esc to get into command mode, and press dd"
   ]
  },
  {
   "cell_type": "markdown",
   "metadata": {},
   "source": [
    "## 5. Now let's run some code.\n",
    "\n",
    "Notebooks have a kernel - the underlying process that actually runs the code.  For this notebook, the kernel is R, but we will also use a python kernel later today.  If you get a message about the kernel crashing or needing to restart, don't panic.  Any variables you have already set will be lost, but you will be able to easily restarst the kernel and rerun the code to get them back.  If this happens, just let me know!\n",
    "\n",
    "Run the following code cells by pressing:\n",
    "- Shift + Enter: Run cell and select cell below\n",
    "- Ctrl + Enter: Run cell\n",
    "- Alt + Enter: Run cell and insert new cell below\n",
    "\n",
    "While a code cell is running, an asterisk [*] will appear in the brackets to the left of the cell.  When it is done, a number will appear inside the brackets to denote the order in which the cell was run."
   ]
  },
  {
   "cell_type": "markdown",
   "metadata": {},
   "source": [
    "## 4. To get a new cell, press esc to get into command mode and then A or B, depending on whether you want a cell above or below the current one.\n",
    "\n",
    "Try adding some blank cells.  To erase a cell, click on it, hit esc to get into command mode, and press dd"
   ]
  },
  {
   "cell_type": "code",
   "execution_count": 8,
   "metadata": {},
   "outputs": [
    {
     "name": "stdout",
     "output_type": "stream",
     "text": [
      " [1]  1  2  3  4  5  6  7  8  9 10 11 12 13 14 15\n"
     ]
    }
   ],
   "source": [
    "## This is a code cell\n",
    "genotype <- seq(1,15,1)\n",
    "print(genotype)"
   ]
  },
  {
   "cell_type": "code",
   "execution_count": 9,
   "metadata": {},
   "outputs": [
    {
     "name": "stdout",
     "output_type": "stream",
     "text": [
      " [1] 17 14 16 15 19 18  6  2 17 16  9  9 15 18  6\n"
     ]
    }
   ],
   "source": [
    "phenotype <- sample(1:20,15, replace=TRUE)\n",
    "print(phenotype)"
   ]
  },
  {
   "cell_type": "markdown",
   "metadata": {},
   "source": [
    "#### What happens if we make a plot?"
   ]
  },
  {
   "cell_type": "code",
   "execution_count": null,
   "metadata": {},
   "outputs": [],
   "source": [
    "plot(genotype, phenotype)"
   ]
  },
  {
   "cell_type": "markdown",
   "metadata": {},
   "source": [
    "## 5. Comment your code\n",
    "\n",
    "Surround your code with brief and clear comments that explain the purpose, functionality, and intricacies of the code. Ensure that these comments provide insight to other developers (or your future self) without overwhelming or repeating information that's evident from the code itself.\n",
    "\n",
    "### Guidelines for Effective Commenting:\n",
    "\n",
    "1. **Purpose Over How**:\n",
    "   - Comment on why the code is doing something, rather than how it's doing it, unless the method is unconventional.\n",
    "   \n",
    "2. **Keep It Relevant**:\n",
    "   - Outdated comments can be more confusing than no comments at all. Update comments as you update your code.\n",
    "\n",
    "3. **Avoid Obvious Comments**:\n",
    "   - Don't write comments that just repeat what the code does, e.g., `x = x + 1  # Adding 1 to x`.\n",
    "\n",
    "4. **Use Inline Comments Sparingly**:\n",
    "   - These are comments inside a line of code. They can be useful, but overuse can make the code look cluttered.\n",
    "\n",
    "5. **Function/Method Comments**:\n",
    "   - Describe what the function/method does, its parameters, return values, and any exceptions it might raise.\n",
    "\n",
    "6. **Avoid Large Comment Blocks**:\n",
    "   - It's usually better to break up the code and comment each piece rather than having a large chunk of code followed by a large comment block.\n",
    "\n",
    "> **Note**: The specific syntax for adding comments varies by programming language. Always adapt your commenting style to the conventions and best practices of the particular programming language you're working with.\n"
   ]
  },
  {
   "cell_type": "markdown",
   "metadata": {},
   "source": [
    "## 6. Variable names\n",
    "\n",
    "General conventions:\n",
    "- Use names that are meaningful and describe the content of the object.\n",
    "- Avoid using names that overlap with the functions of the base R package.\n",
    "\n",
    "\n",
    "### 6.2 R \n",
    "\n",
    "In the R programming language, there are no specific naming conventions.  \n",
    "\n",
    "\n",
    "- **Variables**: typically written in lowercase with underscores or dots between words (e.g., `my.variable`). \n",
    "- **Functions**: typically written in lowercase (with underscores or dots), but could be in `functionInCamelCase`. \n",
    "\n",
    "\n",
    "### 6.1 Python Naming Convention PEP 8\n",
    "\n",
    "Python has naming conventions [PEP 8](https://peps.python.org/pep-0008/) that specify when and how to use a particular case:\n",
    "\n",
    "- **Variables and functions**: typically named in lowercase with underscores between words, for example, `my_variable`, `calculate_sum`.\n",
    "- **Classes**: use CamelCase (or CapWords), for example, `MyClass`, `DataLoader`.\n",
    "- **Constants**: typically named in uppercase with underscores between words, for example, `PI`, `MAX_SIZE`."
   ]
  },
  {
   "cell_type": "markdown",
   "metadata": {},
   "source": [
    "## That's it!  Now we're ready to start with notebook 1_phenotype_exploration.ipynb.\n",
    "\n"
   ]
  }
 ],
 "metadata": {
  "kernelspec": {
   "display_name": "R",
   "language": "R",
   "name": "ir"
  },
  "language_info": {
   "codemirror_mode": "r",
   "file_extension": ".r",
   "mimetype": "text/x-r-source",
   "name": "R",
   "pygments_lexer": "r",
   "version": "4.0.5"
  }
 },
 "nbformat": 4,
 "nbformat_minor": 4
}
