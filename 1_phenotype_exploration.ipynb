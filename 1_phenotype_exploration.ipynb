{
 "cells": [
  {
   "cell_type": "code",
   "execution_count": 1,
   "metadata": {},
   "outputs": [],
   "source": [
    "library(ggplot2)"
   ]
  },
  {
   "cell_type": "markdown",
   "metadata": {},
   "source": [
    "# Phenotype Exploration"
   ]
  },
  {
   "cell_type": "code",
   "execution_count": 2,
   "metadata": {},
   "outputs": [
    {
     "ename": "ERROR",
     "evalue": "Error in parse(text = x, srcfile = src): <text>:2:27: unexpected symbol\n1: flower.file <- (\"./data/flowering_time_16.csv\")\n2: accession.pos.file <- get me\n                             ^\n",
     "output_type": "error",
     "traceback": [
      "Error in parse(text = x, srcfile = src): <text>:2:27: unexpected symbol\n1: flower.file <- (\"./data/flowering_time_16.csv\")\n2: accession.pos.file <- get me\n                             ^\nTraceback:\n"
     ]
    }
   ],
   "source": [
    "flower.file <- (\"./data/flowering_time_16.csv\")\n",
    "accession.pos.file <- get me from field data!!!"
   ]
  },
  {
   "cell_type": "markdown",
   "metadata": {},
   "source": [
    "## Phenotypic distribution\n",
    "Is it sensible to use this data in a linear model?"
   ]
  },
  {
   "cell_type": "code",
   "execution_count": 1,
   "metadata": {},
   "outputs": [
    {
     "ename": "ERROR",
     "evalue": "Error in read.table(file = file, header = header, sep = sep, quote = quote, : object 'flower.file' not found\n",
     "output_type": "error",
     "traceback": [
      "Error in read.table(file = file, header = header, sep = sep, quote = quote, : object 'flower.file' not found\nTraceback:\n",
      "1. read.csv(flower.file)",
      "2. read.table(file = file, header = header, sep = sep, quote = quote, \n .     dec = dec, fill = fill, comment.char = comment.char, ...)"
     ]
    }
   ],
   "source": [
    "flower.pheno <- read.csv(flower.file)\n",
    "dim(flower.pheno)\n",
    "head(flower.pheno)\n",
    "hist(flower.pheno$flowering_time_16,xlab=\"flowering time (days)\", main=\"Histogram of flowering time\",col=\"blue\")\n"
   ]
  },
  {
   "cell_type": "markdown",
   "metadata": {},
   "source": [
    "## Distribution of trait values geographically.\n",
    "Is population structure likely to be a problem here?\n",
    "What is the geographic area tested in this GWAS?"
   ]
  },
  {
   "cell_type": "markdown",
   "metadata": {},
   "source": [
    "grab this code from field experiment analysis!"
   ]
  },
  {
   "cell_type": "markdown",
   "metadata": {},
   "source": [
    " ### OK, lets move on to 2_GWAS.ipynb where we will use this phenotype for GWAS."
   ]
  },
  {
   "cell_type": "code",
   "execution_count": null,
   "metadata": {},
   "outputs": [],
   "source": []
  }
 ],
 "metadata": {
  "kernelspec": {
   "display_name": "R",
   "language": "R",
   "name": "ir"
  },
  "language_info": {
   "codemirror_mode": "r",
   "file_extension": ".r",
   "mimetype": "text/x-r-source",
   "name": "R",
   "pygments_lexer": "r",
   "version": "3.6.0"
  }
 },
 "nbformat": 4,
 "nbformat_minor": 4
}
